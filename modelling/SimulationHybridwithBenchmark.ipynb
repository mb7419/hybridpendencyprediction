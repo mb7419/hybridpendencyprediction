{
  "cells": [
    {
      "cell_type": "code",
      "execution_count": 1,
      "metadata": {
        "colab": {
          "base_uri": "https://localhost:8080/"
        },
        "id": "wKw97_KlYprV",
        "outputId": "83634472-3677-4148-8a5f-cd5d2d8fb1a6"
      },
      "outputs": [
        {
          "output_type": "stream",
          "name": "stdout",
          "text": [
            "NumPy 1.26.4 is already < 2.0. No action needed.\n"
          ]
        }
      ],
      "source": [
        "import numpy as np\n",
        "from packaging import version\n",
        "import subprocess\n",
        "import sys\n",
        "# Following code required owing to the issue here https://github.com/h2oai/h2o-3/issues/16462 , once numpy 2 is supported the code can be removed\n",
        "# Check if current NumPy is >= 2\n",
        "if version.parse(np.__version__) >= version.parse(\"2.0\"):\n",
        "    print(f\"Detected NumPy {np.__version__}, reinstalling < 2.0...\")\n",
        "    !pip install --force-reinstall --no-cache-dir \"numpy<2\"\n",
        "    # Restart runtime manually\n",
        "else:\n",
        "    print(f\"NumPy {np.__version__} is already < 2.0. No action needed.\")"
      ]
    },
    {
      "cell_type": "code",
      "execution_count": 2,
      "metadata": {
        "colab": {
          "base_uri": "https://localhost:8080/"
        },
        "id": "gtSaRg77Dmxo",
        "outputId": "c6f41101-e75e-4e76-f61d-eb63c7793374"
      },
      "outputs": [
        {
          "output_type": "stream",
          "name": "stdout",
          "text": [
            "Collecting h2o\n",
            "  Downloading h2o-3.46.0.8-py2.py3-none-any.whl.metadata (2.1 kB)\n",
            "Requirement already satisfied: requests in /usr/local/lib/python3.12/dist-packages (from h2o) (2.32.4)\n",
            "Requirement already satisfied: tabulate in /usr/local/lib/python3.12/dist-packages (from h2o) (0.9.0)\n",
            "Requirement already satisfied: charset_normalizer<4,>=2 in /usr/local/lib/python3.12/dist-packages (from requests->h2o) (3.4.4)\n",
            "Requirement already satisfied: idna<4,>=2.5 in /usr/local/lib/python3.12/dist-packages (from requests->h2o) (3.11)\n",
            "Requirement already satisfied: urllib3<3,>=1.21.1 in /usr/local/lib/python3.12/dist-packages (from requests->h2o) (2.5.0)\n",
            "Requirement already satisfied: certifi>=2017.4.17 in /usr/local/lib/python3.12/dist-packages (from requests->h2o) (2025.10.5)\n",
            "Downloading h2o-3.46.0.8-py2.py3-none-any.whl (266.0 MB)\n",
            "\u001b[2K   \u001b[90m━━━━━━━━━━━━━━━━━━━━━━━━━━━━━━━━━━━━━━━━\u001b[0m \u001b[32m266.0/266.0 MB\u001b[0m \u001b[31m6.7 MB/s\u001b[0m eta \u001b[36m0:00:00\u001b[0m\n",
            "\u001b[?25hInstalling collected packages: h2o\n",
            "Successfully installed h2o-3.46.0.8\n"
          ]
        }
      ],
      "source": [
        "!pip install h2o\n",
        "import os"
      ]
    },
    {
      "cell_type": "code",
      "execution_count": 3,
      "metadata": {
        "id": "aUjN_jmlx06x"
      },
      "outputs": [],
      "source": [
        "import re"
      ]
    },
    {
      "cell_type": "code",
      "execution_count": 4,
      "metadata": {
        "id": "ZPEj2iaccBfS"
      },
      "outputs": [],
      "source": [
        "import h2o\n",
        "import pandas as pd\n",
        "# helper function to format grid search results"
      ]
    },
    {
      "cell_type": "code",
      "execution_count": 5,
      "metadata": {
        "colab": {
          "base_uri": "https://localhost:8080/"
        },
        "id": "1N31ZFyLDYST",
        "outputId": "99d2059d-aea5-4fa5-ee86-3b1811858d94"
      },
      "outputs": [
        {
          "output_type": "stream",
          "name": "stdout",
          "text": [
            "Mounted at /content/drive\n"
          ]
        }
      ],
      "source": [
        "from google.colab import drive\n",
        "drive.mount('/content/drive')"
      ]
    },
    {
      "cell_type": "code",
      "execution_count": 6,
      "metadata": {
        "colab": {
          "base_uri": "https://localhost:8080/",
          "height": 544
        },
        "id": "6fumYKIdwZ8-",
        "outputId": "3eaaf436-198a-4af9-bda6-c1a96510ce0d"
      },
      "outputs": [
        {
          "output_type": "stream",
          "name": "stdout",
          "text": [
            "Checking whether there is an H2O instance running at http://localhost:54321..... not found.\n",
            "Attempting to start a local H2O server...\n",
            "  Java Version: openjdk version \"11.0.28\" 2025-07-15; OpenJDK Runtime Environment (build 11.0.28+6-post-Ubuntu-1ubuntu122.04.1); OpenJDK 64-Bit Server VM (build 11.0.28+6-post-Ubuntu-1ubuntu122.04.1, mixed mode, sharing)\n",
            "  Starting server from /usr/local/lib/python3.12/dist-packages/h2o/backend/bin/h2o.jar\n",
            "  Ice root: /tmp/tmp1wobur3r\n",
            "  JVM stdout: /tmp/tmp1wobur3r/h2o_unknownUser_started_from_python.out\n",
            "  JVM stderr: /tmp/tmp1wobur3r/h2o_unknownUser_started_from_python.err\n",
            "  Server is running at http://127.0.0.1:54321\n",
            "Connecting to H2O server at http://127.0.0.1:54321 ... successful.\n"
          ]
        },
        {
          "output_type": "display_data",
          "data": {
            "text/plain": [
              "--------------------------  -----------------------------------------------------------------------------------------\n",
              "H2O_cluster_uptime:         02 secs\n",
              "H2O_cluster_timezone:       Etc/UTC\n",
              "H2O_data_parsing_timezone:  UTC\n",
              "H2O_cluster_version:        3.46.0.8\n",
              "H2O_cluster_version_age:    16 days\n",
              "H2O_cluster_name:           H2O_from_python_unknownUser_146pym\n",
              "H2O_cluster_total_nodes:    1\n",
              "H2O_cluster_free_memory:    45 Gb\n",
              "H2O_cluster_total_cores:    8\n",
              "H2O_cluster_allowed_cores:  8\n",
              "H2O_cluster_status:         locked, healthy\n",
              "H2O_connection_url:         http://127.0.0.1:54321\n",
              "H2O_connection_proxy:       {\"http\": null, \"https\": null, \"colab_language_server\": \"/usr/colab/bin/language_service\"}\n",
              "H2O_internal_security:      False\n",
              "Python_version:             3.12.12 final\n",
              "--------------------------  -----------------------------------------------------------------------------------------"
            ],
            "text/html": [
              "\n",
              "<style>\n",
              "\n",
              "#h2o-table-1.h2o-container {\n",
              "  overflow-x: auto;\n",
              "}\n",
              "#h2o-table-1 .h2o-table {\n",
              "  /* width: 100%; */\n",
              "  margin-top: 1em;\n",
              "  margin-bottom: 1em;\n",
              "}\n",
              "#h2o-table-1 .h2o-table caption {\n",
              "  white-space: nowrap;\n",
              "  caption-side: top;\n",
              "  text-align: left;\n",
              "  /* margin-left: 1em; */\n",
              "  margin: 0;\n",
              "  font-size: larger;\n",
              "}\n",
              "#h2o-table-1 .h2o-table thead {\n",
              "  white-space: nowrap; \n",
              "  position: sticky;\n",
              "  top: 0;\n",
              "  box-shadow: 0 -1px inset;\n",
              "}\n",
              "#h2o-table-1 .h2o-table tbody {\n",
              "  overflow: auto;\n",
              "}\n",
              "#h2o-table-1 .h2o-table th,\n",
              "#h2o-table-1 .h2o-table td {\n",
              "  text-align: right;\n",
              "  /* border: 1px solid; */\n",
              "}\n",
              "#h2o-table-1 .h2o-table tr:nth-child(even) {\n",
              "  /* background: #F5F5F5 */\n",
              "}\n",
              "\n",
              "</style>      \n",
              "<div id=\"h2o-table-1\" class=\"h2o-container\">\n",
              "  <table class=\"h2o-table\">\n",
              "    <caption></caption>\n",
              "    <thead></thead>\n",
              "    <tbody><tr><td>H2O_cluster_uptime:</td>\n",
              "<td>02 secs</td></tr>\n",
              "<tr><td>H2O_cluster_timezone:</td>\n",
              "<td>Etc/UTC</td></tr>\n",
              "<tr><td>H2O_data_parsing_timezone:</td>\n",
              "<td>UTC</td></tr>\n",
              "<tr><td>H2O_cluster_version:</td>\n",
              "<td>3.46.0.8</td></tr>\n",
              "<tr><td>H2O_cluster_version_age:</td>\n",
              "<td>16 days</td></tr>\n",
              "<tr><td>H2O_cluster_name:</td>\n",
              "<td>H2O_from_python_unknownUser_146pym</td></tr>\n",
              "<tr><td>H2O_cluster_total_nodes:</td>\n",
              "<td>1</td></tr>\n",
              "<tr><td>H2O_cluster_free_memory:</td>\n",
              "<td>45 Gb</td></tr>\n",
              "<tr><td>H2O_cluster_total_cores:</td>\n",
              "<td>8</td></tr>\n",
              "<tr><td>H2O_cluster_allowed_cores:</td>\n",
              "<td>8</td></tr>\n",
              "<tr><td>H2O_cluster_status:</td>\n",
              "<td>locked, healthy</td></tr>\n",
              "<tr><td>H2O_connection_url:</td>\n",
              "<td>http://127.0.0.1:54321</td></tr>\n",
              "<tr><td>H2O_connection_proxy:</td>\n",
              "<td>{\"http\": null, \"https\": null, \"colab_language_server\": \"/usr/colab/bin/language_service\"}</td></tr>\n",
              "<tr><td>H2O_internal_security:</td>\n",
              "<td>False</td></tr>\n",
              "<tr><td>Python_version:</td>\n",
              "<td>3.12.12 final</td></tr></tbody>\n",
              "  </table>\n",
              "</div>\n"
            ]
          },
          "metadata": {}
        }
      ],
      "source": [
        "h2o.init(max_mem_size = \"45g\")\n"
      ]
    },
    {
      "cell_type": "code",
      "execution_count": 7,
      "metadata": {
        "colab": {
          "base_uri": "https://localhost:8080/"
        },
        "id": "4KgFpnJwhrLq",
        "outputId": "80c41ed3-ffb8-47f7-ed62-ac566d5ddc8f"
      },
      "outputs": [
        {
          "output_type": "stream",
          "name": "stdout",
          "text": [
            "Parse progress: |████████████████████████████████████████████████████████████████| (done) 100%\n"
          ]
        }
      ],
      "source": [
        "cases2010to2018_h2o = h2o.import_file('/content/drive/MyDrive/Law/Model2abbaselineData_2010to2018_merged_criminal_regr.csv')\n",
        "#cases2010to2018_h2o = h2o.import_file('/content/drive/MyDrive/Law/automl_2010to2018_merged_all.csv')"
      ]
    },
    {
      "cell_type": "code",
      "execution_count": 8,
      "metadata": {
        "id": "-TkGLEk2y_Ti"
      },
      "outputs": [],
      "source": [
        "cases2010to2018_h2o = cases2010to2018_h2o[((cases2010to2018_h2o['pendency_decision_filing'] <= 100000))]"
      ]
    },
    {
      "cell_type": "code",
      "execution_count": 9,
      "metadata": {
        "id": "Uq34Q1SZyKEN",
        "colab": {
          "base_uri": "https://localhost:8080/"
        },
        "outputId": "b4009a34-3419-4f16-9e5f-de443181c079"
      },
      "outputs": [
        {
          "output_type": "execute_result",
          "data": {
            "text/plain": [
              "{'state_code': 'int',\n",
              " 'female_defendant': 'int',\n",
              " 'female_petitioner': 'enum',\n",
              " 'female_adv_def': 'int',\n",
              " 'female_adv_pet': 'int',\n",
              " 'billable_ipc': 'enum',\n",
              " 'female_judge_filing': 'enum',\n",
              " 'female_judge_decision': 'enum',\n",
              " 'judgediff': 'int',\n",
              " 'pendency_decision_filing': 'int',\n",
              " 'pendency_first_filing': 'int',\n",
              " 'muslim_defendant': 'enum',\n",
              " 'muslim_petitioner': 'enum',\n",
              " 'muslim_adv_def': 'int',\n",
              " 'muslim_adv_pet': 'int',\n",
              " 'court_details': 'enum',\n",
              " 'state_district': 'enum',\n",
              " 'pendency_model_multiyear': 'enum',\n",
              " 'filing_judge_tenure_at_filing': 'int',\n",
              " 'decision_judge_tenure_at_decision': 'int',\n",
              " 'act_s': 'enum',\n",
              " 'section_s': 'int',\n",
              " 'type_name_s': 'enum',\n",
              " 'judge_position_s': 'enum',\n",
              " 'number_sections_ipc_category': 'enum'}"
            ]
          },
          "metadata": {},
          "execution_count": 9
        }
      ],
      "source": [
        "cases2010to2018_h2o.types"
      ]
    },
    {
      "cell_type": "code",
      "execution_count": 10,
      "metadata": {
        "id": "qrbrVaRM4dJL"
      },
      "outputs": [],
      "source": [
        "#Remove all columns not available at time of case filing\n",
        "\n",
        "# List of columns to keep\n",
        "columns_to_keep = cases2010to2018_h2o.columns\n",
        "\n",
        "columns_to_keep.remove(\"female_judge_decision\")\n",
        "columns_to_keep.remove(\"decision_judge_tenure_at_decision\")\n",
        "columns_to_keep.remove(\"pendency_first_filing\")\n",
        "columns_to_keep.remove(\"judgediff\")\n",
        "#Drop columns related to advocate and religion\n",
        "columns_to_keep.remove(\"muslim_defendant\")\n",
        "columns_to_keep.remove(\"muslim_petitioner\")\n",
        "columns_to_keep.remove(\"muslim_adv_def\")\n",
        "columns_to_keep.remove(\"muslim_adv_pet\")\n",
        "columns_to_keep.remove(\"female_adv_def\")\n",
        "columns_to_keep.remove(\"female_adv_pet\")\n",
        "columns_to_keep.remove(\"female_defendant\")\n",
        "columns_to_keep.remove(\"female_petitioner\")\n",
        "columns_to_keep.remove(\"female_judge_filing\")\n",
        "\n",
        "\n",
        "# Use the assign method to drop columns\n",
        "cases2010to2018_h2o = cases2010to2018_h2o[columns_to_keep]\n",
        "\n"
      ]
    },
    {
      "cell_type": "code",
      "execution_count": 11,
      "metadata": {
        "id": "8W3xLF5D7GWp",
        "colab": {
          "base_uri": "https://localhost:8080/"
        },
        "outputId": "056660f1-e913-4b34-807b-8d2b210a521b"
      },
      "outputs": [
        {
          "output_type": "execute_result",
          "data": {
            "text/plain": [
              "{'state_code': 'int',\n",
              " 'billable_ipc': 'enum',\n",
              " 'pendency_decision_filing': 'int',\n",
              " 'court_details': 'enum',\n",
              " 'state_district': 'enum',\n",
              " 'pendency_model_multiyear': 'enum',\n",
              " 'filing_judge_tenure_at_filing': 'int',\n",
              " 'act_s': 'enum',\n",
              " 'section_s': 'int',\n",
              " 'type_name_s': 'enum',\n",
              " 'judge_position_s': 'enum',\n",
              " 'number_sections_ipc_category': 'enum'}"
            ]
          },
          "metadata": {},
          "execution_count": 11
        }
      ],
      "source": [
        "cases2010to2018_h2o.types"
      ]
    },
    {
      "cell_type": "code",
      "execution_count": 12,
      "metadata": {
        "id": "GJvvGP6m3alO",
        "colab": {
          "base_uri": "https://localhost:8080/",
          "height": 895
        },
        "outputId": "4a128772-3246-4d8c-f975-64aa5a23ace4"
      },
      "outputs": [
        {
          "output_type": "execute_result",
          "data": {
            "text/plain": [
              "  state_code  billable_ipc      pendency_decision_filing    court_details    state_district  pendency_model_multiyear      filing_judge_tenure_at_filing  act_s                         section_s  type_name_s                      judge_position_s             number_sections_ipc_category\n",
              "------------  --------------  --------------------------  ---------------  ----------------  --------------------------  -------------------------------  --------------------------  -----------  -------------------------------  ---------------------------  ------------------------------\n",
              "          25  NA                                       3           25_2_5              25_2  ontime                                                    2  Code of Criminal Procedure          104  NA                               Judicial Magistrate Court    NA\n",
              "          13  NA                                       0          13_25_3             13_25  ontime                                                   49  Code of Criminal Procedure          104  transfer application (criminal)  Chief Judicial Magistrate    NA\n",
              "          17  non-bailable                             0          17_31_2             17_31  ontime                                                   26  The Indian Penal Code               130  NA                               Civil Court                  5 to 10\n",
              "          23  non-bailable                            14          23_15_1             23_15  ontime                                                    9  The Indian Penal Code               130  NA                               District And Sessions Court  5 to 10\n",
              "           2  non-bailable                             2           2_7_17               2_7  ontime                                                    3  The Indian Penal Code               134  cc                               Civil Judge Junior Division  5 to 10\n",
              "           3  non-bailable                             5          3_18_11              3_18  ontime                                                   12  The Indian Penal Code               134  c.c.                             principal civil judge        four\n",
              "           4  non-bailable                            31            4_2_5               4_2  delayed                                                  12  The Indian Penal Code               134  cc                               Chief Judicial Magistrate    three\n",
              "           3  non-bailable                             1           3_25_5              3_25  ontime                                                   17  The Indian Penal Code               134  NA                               principal civil judge        three\n",
              "           3  non-bailable                             1           3_20_1              3_20  ontime                                                   19  The Indian Penal Code               134  a.i.r.misc                       small cause court            one\n",
              "           3  non-bailable                             4           3_20_1              3_20  ontime                                                    4  The Indian Penal Code               134  a.i.r.misc                       small cause court            one\n",
              "[16482391 rows x 12 columns]\n"
            ],
            "text/html": [
              "<table class='dataframe'>\n",
              "<thead>\n",
              "<tr><th style=\"text-align: right;\">  state_code</th><th>billable_ipc  </th><th style=\"text-align: right;\">  pendency_decision_filing</th><th style=\"text-align: right;\">  court_details</th><th style=\"text-align: right;\">  state_district</th><th>pendency_model_multiyear  </th><th style=\"text-align: right;\">  filing_judge_tenure_at_filing</th><th>act_s                     </th><th style=\"text-align: right;\">  section_s</th><th>type_name_s                    </th><th>judge_position_s           </th><th>number_sections_ipc_category  </th></tr>\n",
              "</thead>\n",
              "<tbody>\n",
              "<tr><td style=\"text-align: right;\">          25</td><td>NA            </td><td style=\"text-align: right;\">                         3</td><td style=\"text-align: right;\">         25_2_5</td><td style=\"text-align: right;\">            25_2</td><td>ontime                    </td><td style=\"text-align: right;\">                              2</td><td>Code of Criminal Procedure</td><td style=\"text-align: right;\">        104</td><td>NA                             </td><td>Judicial Magistrate Court  </td><td>NA                            </td></tr>\n",
              "<tr><td style=\"text-align: right;\">          13</td><td>NA            </td><td style=\"text-align: right;\">                         0</td><td style=\"text-align: right;\">        13_25_3</td><td style=\"text-align: right;\">           13_25</td><td>ontime                    </td><td style=\"text-align: right;\">                             49</td><td>Code of Criminal Procedure</td><td style=\"text-align: right;\">        104</td><td>transfer application (criminal)</td><td>Chief Judicial Magistrate  </td><td>NA                            </td></tr>\n",
              "<tr><td style=\"text-align: right;\">          17</td><td>non-bailable  </td><td style=\"text-align: right;\">                         0</td><td style=\"text-align: right;\">        17_31_2</td><td style=\"text-align: right;\">           17_31</td><td>ontime                    </td><td style=\"text-align: right;\">                             26</td><td>The Indian Penal Code     </td><td style=\"text-align: right;\">        130</td><td>NA                             </td><td>Civil Court                </td><td>5 to 10                       </td></tr>\n",
              "<tr><td style=\"text-align: right;\">          23</td><td>non-bailable  </td><td style=\"text-align: right;\">                        14</td><td style=\"text-align: right;\">        23_15_1</td><td style=\"text-align: right;\">           23_15</td><td>ontime                    </td><td style=\"text-align: right;\">                              9</td><td>The Indian Penal Code     </td><td style=\"text-align: right;\">        130</td><td>NA                             </td><td>District And Sessions Court</td><td>5 to 10                       </td></tr>\n",
              "<tr><td style=\"text-align: right;\">           2</td><td>non-bailable  </td><td style=\"text-align: right;\">                         2</td><td style=\"text-align: right;\">         2_7_17</td><td style=\"text-align: right;\">             2_7</td><td>ontime                    </td><td style=\"text-align: right;\">                              3</td><td>The Indian Penal Code     </td><td style=\"text-align: right;\">        134</td><td>cc                             </td><td>Civil Judge Junior Division</td><td>5 to 10                       </td></tr>\n",
              "<tr><td style=\"text-align: right;\">           3</td><td>non-bailable  </td><td style=\"text-align: right;\">                         5</td><td style=\"text-align: right;\">        3_18_11</td><td style=\"text-align: right;\">            3_18</td><td>ontime                    </td><td style=\"text-align: right;\">                             12</td><td>The Indian Penal Code     </td><td style=\"text-align: right;\">        134</td><td>c.c.                           </td><td>principal civil judge      </td><td>four                          </td></tr>\n",
              "<tr><td style=\"text-align: right;\">           4</td><td>non-bailable  </td><td style=\"text-align: right;\">                        31</td><td style=\"text-align: right;\">          4_2_5</td><td style=\"text-align: right;\">             4_2</td><td>delayed                   </td><td style=\"text-align: right;\">                             12</td><td>The Indian Penal Code     </td><td style=\"text-align: right;\">        134</td><td>cc                             </td><td>Chief Judicial Magistrate  </td><td>three                         </td></tr>\n",
              "<tr><td style=\"text-align: right;\">           3</td><td>non-bailable  </td><td style=\"text-align: right;\">                         1</td><td style=\"text-align: right;\">         3_25_5</td><td style=\"text-align: right;\">            3_25</td><td>ontime                    </td><td style=\"text-align: right;\">                             17</td><td>The Indian Penal Code     </td><td style=\"text-align: right;\">        134</td><td>NA                             </td><td>principal civil judge      </td><td>three                         </td></tr>\n",
              "<tr><td style=\"text-align: right;\">           3</td><td>non-bailable  </td><td style=\"text-align: right;\">                         1</td><td style=\"text-align: right;\">         3_20_1</td><td style=\"text-align: right;\">            3_20</td><td>ontime                    </td><td style=\"text-align: right;\">                             19</td><td>The Indian Penal Code     </td><td style=\"text-align: right;\">        134</td><td>a.i.r.misc                     </td><td>small cause court          </td><td>one                           </td></tr>\n",
              "<tr><td style=\"text-align: right;\">           3</td><td>non-bailable  </td><td style=\"text-align: right;\">                         4</td><td style=\"text-align: right;\">         3_20_1</td><td style=\"text-align: right;\">            3_20</td><td>ontime                    </td><td style=\"text-align: right;\">                              4</td><td>The Indian Penal Code     </td><td style=\"text-align: right;\">        134</td><td>a.i.r.misc                     </td><td>small cause court          </td><td>one                           </td></tr>\n",
              "</tbody>\n",
              "</table><pre style='font-size: smaller; margin-bottom: 1em;'>[16482391 rows x 12 columns]</pre>"
            ]
          },
          "metadata": {},
          "execution_count": 12
        }
      ],
      "source": [
        "cases2010to2018_h2o"
      ]
    },
    {
      "cell_type": "code",
      "execution_count": 13,
      "metadata": {
        "id": "s0xJpeIJmzUb"
      },
      "outputs": [],
      "source": [
        "cases2010to2018_h2o['section_s'] = cases2010to2018_h2o['section_s'].asfactor()\n",
        "cases2010to2018_h2o['state_code'] = cases2010to2018_h2o['state_code'].asfactor()\n",
        "cases2010to2018_h2o['bailable_ipc'] = cases2010to2018_h2o['billable_ipc']\n"
      ]
    },
    {
      "cell_type": "code",
      "execution_count": 14,
      "metadata": {
        "id": "bbPF2q82TCs_",
        "colab": {
          "base_uri": "https://localhost:8080/"
        },
        "outputId": "58063074-2edf-4ec5-b8d3-fef5b1c8e1ad"
      },
      "outputs": [
        {
          "output_type": "execute_result",
          "data": {
            "text/plain": [
              "{'state_code': 'enum',\n",
              " 'billable_ipc': 'enum',\n",
              " 'pendency_decision_filing': 'int',\n",
              " 'court_details': 'enum',\n",
              " 'state_district': 'enum',\n",
              " 'pendency_model_multiyear': 'enum',\n",
              " 'filing_judge_tenure_at_filing': 'int',\n",
              " 'act_s': 'enum',\n",
              " 'section_s': 'enum',\n",
              " 'type_name_s': 'enum',\n",
              " 'judge_position_s': 'enum',\n",
              " 'number_sections_ipc_category': 'enum',\n",
              " 'bailable_ipc': 'enum'}"
            ]
          },
          "metadata": {},
          "execution_count": 14
        }
      ],
      "source": [
        "cases2010to2018_h2o.types"
      ]
    },
    {
      "cell_type": "code",
      "execution_count": 15,
      "metadata": {
        "id": "TqpcNs2XR5_F",
        "colab": {
          "base_uri": "https://localhost:8080/",
          "height": 895
        },
        "outputId": "c5be9ff0-30f3-436f-a59a-fc68cb59dc6a"
      },
      "outputs": [
        {
          "output_type": "execute_result",
          "data": {
            "text/plain": [
              "  state_code  billable_ipc      pendency_decision_filing    court_details    state_district  pendency_model_multiyear      filing_judge_tenure_at_filing  act_s                         section_s  type_name_s                      judge_position_s             number_sections_ipc_category    bailable_ipc\n",
              "------------  --------------  --------------------------  ---------------  ----------------  --------------------------  -------------------------------  --------------------------  -----------  -------------------------------  ---------------------------  ------------------------------  --------------\n",
              "          25  NA                                       3           25_2_5              25_2  ontime                                                    2  Code of Criminal Procedure          104  NA                               Judicial Magistrate Court    NA                              NA\n",
              "          13  NA                                       0          13_25_3             13_25  ontime                                                   49  Code of Criminal Procedure          104  transfer application (criminal)  Chief Judicial Magistrate    NA                              NA\n",
              "          17  non-bailable                             0          17_31_2             17_31  ontime                                                   26  The Indian Penal Code               130  NA                               Civil Court                  5 to 10                         non-bailable\n",
              "          23  non-bailable                            14          23_15_1             23_15  ontime                                                    9  The Indian Penal Code               130  NA                               District And Sessions Court  5 to 10                         non-bailable\n",
              "           2  non-bailable                             2           2_7_17               2_7  ontime                                                    3  The Indian Penal Code               134  cc                               Civil Judge Junior Division  5 to 10                         non-bailable\n",
              "           3  non-bailable                             5          3_18_11              3_18  ontime                                                   12  The Indian Penal Code               134  c.c.                             principal civil judge        four                            non-bailable\n",
              "           4  non-bailable                            31            4_2_5               4_2  delayed                                                  12  The Indian Penal Code               134  cc                               Chief Judicial Magistrate    three                           non-bailable\n",
              "           3  non-bailable                             1           3_25_5              3_25  ontime                                                   17  The Indian Penal Code               134  NA                               principal civil judge        three                           non-bailable\n",
              "           3  non-bailable                             1           3_20_1              3_20  ontime                                                   19  The Indian Penal Code               134  a.i.r.misc                       small cause court            one                             non-bailable\n",
              "           3  non-bailable                             4           3_20_1              3_20  ontime                                                    4  The Indian Penal Code               134  a.i.r.misc                       small cause court            one                             non-bailable\n",
              "[10 rows x 13 columns]\n"
            ],
            "text/html": [
              "<table class='dataframe'>\n",
              "<thead>\n",
              "<tr><th style=\"text-align: right;\">  state_code</th><th>billable_ipc  </th><th style=\"text-align: right;\">  pendency_decision_filing</th><th style=\"text-align: right;\">  court_details</th><th style=\"text-align: right;\">  state_district</th><th>pendency_model_multiyear  </th><th style=\"text-align: right;\">  filing_judge_tenure_at_filing</th><th>act_s                     </th><th style=\"text-align: right;\">  section_s</th><th>type_name_s                    </th><th>judge_position_s           </th><th>number_sections_ipc_category  </th><th>bailable_ipc  </th></tr>\n",
              "</thead>\n",
              "<tbody>\n",
              "<tr><td style=\"text-align: right;\">          25</td><td>NA            </td><td style=\"text-align: right;\">                         3</td><td style=\"text-align: right;\">         25_2_5</td><td style=\"text-align: right;\">            25_2</td><td>ontime                    </td><td style=\"text-align: right;\">                              2</td><td>Code of Criminal Procedure</td><td style=\"text-align: right;\">        104</td><td>NA                             </td><td>Judicial Magistrate Court  </td><td>NA                            </td><td>NA            </td></tr>\n",
              "<tr><td style=\"text-align: right;\">          13</td><td>NA            </td><td style=\"text-align: right;\">                         0</td><td style=\"text-align: right;\">        13_25_3</td><td style=\"text-align: right;\">           13_25</td><td>ontime                    </td><td style=\"text-align: right;\">                             49</td><td>Code of Criminal Procedure</td><td style=\"text-align: right;\">        104</td><td>transfer application (criminal)</td><td>Chief Judicial Magistrate  </td><td>NA                            </td><td>NA            </td></tr>\n",
              "<tr><td style=\"text-align: right;\">          17</td><td>non-bailable  </td><td style=\"text-align: right;\">                         0</td><td style=\"text-align: right;\">        17_31_2</td><td style=\"text-align: right;\">           17_31</td><td>ontime                    </td><td style=\"text-align: right;\">                             26</td><td>The Indian Penal Code     </td><td style=\"text-align: right;\">        130</td><td>NA                             </td><td>Civil Court                </td><td>5 to 10                       </td><td>non-bailable  </td></tr>\n",
              "<tr><td style=\"text-align: right;\">          23</td><td>non-bailable  </td><td style=\"text-align: right;\">                        14</td><td style=\"text-align: right;\">        23_15_1</td><td style=\"text-align: right;\">           23_15</td><td>ontime                    </td><td style=\"text-align: right;\">                              9</td><td>The Indian Penal Code     </td><td style=\"text-align: right;\">        130</td><td>NA                             </td><td>District And Sessions Court</td><td>5 to 10                       </td><td>non-bailable  </td></tr>\n",
              "<tr><td style=\"text-align: right;\">           2</td><td>non-bailable  </td><td style=\"text-align: right;\">                         2</td><td style=\"text-align: right;\">         2_7_17</td><td style=\"text-align: right;\">             2_7</td><td>ontime                    </td><td style=\"text-align: right;\">                              3</td><td>The Indian Penal Code     </td><td style=\"text-align: right;\">        134</td><td>cc                             </td><td>Civil Judge Junior Division</td><td>5 to 10                       </td><td>non-bailable  </td></tr>\n",
              "<tr><td style=\"text-align: right;\">           3</td><td>non-bailable  </td><td style=\"text-align: right;\">                         5</td><td style=\"text-align: right;\">        3_18_11</td><td style=\"text-align: right;\">            3_18</td><td>ontime                    </td><td style=\"text-align: right;\">                             12</td><td>The Indian Penal Code     </td><td style=\"text-align: right;\">        134</td><td>c.c.                           </td><td>principal civil judge      </td><td>four                          </td><td>non-bailable  </td></tr>\n",
              "<tr><td style=\"text-align: right;\">           4</td><td>non-bailable  </td><td style=\"text-align: right;\">                        31</td><td style=\"text-align: right;\">          4_2_5</td><td style=\"text-align: right;\">             4_2</td><td>delayed                   </td><td style=\"text-align: right;\">                             12</td><td>The Indian Penal Code     </td><td style=\"text-align: right;\">        134</td><td>cc                             </td><td>Chief Judicial Magistrate  </td><td>three                         </td><td>non-bailable  </td></tr>\n",
              "<tr><td style=\"text-align: right;\">           3</td><td>non-bailable  </td><td style=\"text-align: right;\">                         1</td><td style=\"text-align: right;\">         3_25_5</td><td style=\"text-align: right;\">            3_25</td><td>ontime                    </td><td style=\"text-align: right;\">                             17</td><td>The Indian Penal Code     </td><td style=\"text-align: right;\">        134</td><td>NA                             </td><td>principal civil judge      </td><td>three                         </td><td>non-bailable  </td></tr>\n",
              "<tr><td style=\"text-align: right;\">           3</td><td>non-bailable  </td><td style=\"text-align: right;\">                         1</td><td style=\"text-align: right;\">         3_20_1</td><td style=\"text-align: right;\">            3_20</td><td>ontime                    </td><td style=\"text-align: right;\">                             19</td><td>The Indian Penal Code     </td><td style=\"text-align: right;\">        134</td><td>a.i.r.misc                     </td><td>small cause court          </td><td>one                           </td><td>non-bailable  </td></tr>\n",
              "<tr><td style=\"text-align: right;\">           3</td><td>non-bailable  </td><td style=\"text-align: right;\">                         4</td><td style=\"text-align: right;\">         3_20_1</td><td style=\"text-align: right;\">            3_20</td><td>ontime                    </td><td style=\"text-align: right;\">                              4</td><td>The Indian Penal Code     </td><td style=\"text-align: right;\">        134</td><td>a.i.r.misc                     </td><td>small cause court          </td><td>one                           </td><td>non-bailable  </td></tr>\n",
              "</tbody>\n",
              "</table><pre style='font-size: smaller; margin-bottom: 1em;'>[10 rows x 13 columns]</pre>"
            ]
          },
          "metadata": {},
          "execution_count": 15
        }
      ],
      "source": [
        "cases2010to2018_h2o.head()"
      ]
    },
    {
      "cell_type": "code",
      "execution_count": 16,
      "metadata": {
        "id": "PDMEBA9evk9R",
        "colab": {
          "base_uri": "https://localhost:8080/"
        },
        "outputId": "ff115d5c-af91-464b-b1ae-bc28775398ec"
      },
      "outputs": [
        {
          "output_type": "stream",
          "name": "stdout",
          "text": [
            "16482391\n"
          ]
        }
      ],
      "source": [
        "print(len(cases2010to2018_h2o))"
      ]
    },
    {
      "cell_type": "code",
      "execution_count": 17,
      "metadata": {
        "id": "P1FfA05PzHpz"
      },
      "outputs": [],
      "source": [
        "cases2010to2018_train, cases2010to2018_test, cases2010to2018_valid = cases2010to2018_h2o.split_frame(ratios=[.7, .15])"
      ]
    },
    {
      "cell_type": "markdown",
      "metadata": {
        "id": "c6nFPld2cHwW"
      },
      "source": [
        "### Load Model1c"
      ]
    },
    {
      "cell_type": "code",
      "execution_count": 18,
      "metadata": {
        "id": "yg4d-L1O0zHv",
        "colab": {
          "base_uri": "https://localhost:8080/"
        },
        "outputId": "652a3a4c-2305-454f-e1eb-66dee4046fc5"
      },
      "outputs": [
        {
          "output_type": "stream",
          "name": "stdout",
          "text": [
            "generic Model Build progress: |██████████████████████████████████████████████████| (done) 100%\n"
          ]
        }
      ],
      "source": [
        "model1c_path = \"/content/drive/MyDrive/Colab Notebooks/Law/paper2&3/paperpredictivecriminal/ToShare/Results/ResultsModel1c/saved_models/drf_grid_model_1.zip\"\n",
        "model1c = h2o.import_mojo(model1c_path)\n"
      ]
    },
    {
      "cell_type": "code",
      "execution_count": 19,
      "metadata": {
        "id": "ohLCSdTLcsml",
        "colab": {
          "base_uri": "https://localhost:8080/"
        },
        "outputId": "a255c65d-c014-4f32-c452-52482b1986c8"
      },
      "outputs": [
        {
          "output_type": "stream",
          "name": "stdout",
          "text": [
            "generic Model Build progress: |██████████████████████████████████████████████████| (done) 100%\n"
          ]
        }
      ],
      "source": [
        "### Load Model 2a\n",
        "model2a_path = \"/content/drive/MyDrive/Colab Notebooks/Law/paper2&3/paperpredictivecriminal/ToShare/Results/ResultsModel2a/saved_models/DRF_1_AutoML_1_20250808_152030.zip\"\n",
        "model2a = h2o.import_mojo(model2a_path)"
      ]
    },
    {
      "cell_type": "code",
      "execution_count": 20,
      "metadata": {
        "id": "YEzBJUS3dOpY",
        "colab": {
          "base_uri": "https://localhost:8080/"
        },
        "outputId": "924c2f3b-4071-4518-9a7f-59ec8d04fe6b"
      },
      "outputs": [
        {
          "output_type": "stream",
          "name": "stdout",
          "text": [
            "generic Model Build progress: |██████████████████████████████████████████████████| (done) 100%\n"
          ]
        }
      ],
      "source": [
        "### Load Model 2b\n",
        "model2b_path = \"/content/drive/MyDrive/Colab Notebooks/Law/paper2&3/paperpredictivecriminal/ToShare/Results/ResultsModel2b/saved_models/GBM_1_AutoML_1_20250808_152037.zip\"\n",
        "model2b = h2o.import_mojo(model2b_path)"
      ]
    },
    {
      "cell_type": "code",
      "execution_count": 21,
      "metadata": {
        "id": "FqxlwNaKcpig",
        "colab": {
          "base_uri": "https://localhost:8080/"
        },
        "outputId": "a8dd2d5f-9478-4103-ba3c-17b83992b7e8"
      },
      "outputs": [
        {
          "output_type": "stream",
          "name": "stdout",
          "text": [
            "generic Model Build progress: |██████████████████████████████████████████████████| (done) 100%\n"
          ]
        }
      ],
      "source": [
        "### Load Model 2 Baseline\n",
        "model2_baseline = \"/content/drive/MyDrive/Colab Notebooks/Law/paper2&3/paperpredictivecriminal/ToShare/Results/ResultsModel2Baseline/saved_models/DRF_1_AutoML_1_20250808_151249.zip\"\n",
        "model2_baseline = h2o.import_mojo(model2_baseline)"
      ]
    },
    {
      "cell_type": "code",
      "source": [
        "import os\n",
        "import random\n",
        "import numpy as np\n",
        "import pandas as pd\n",
        "from sklearn.metrics import (\n",
        "    mean_squared_error,\n",
        "    mean_absolute_error,\n",
        "    accuracy_score,\n",
        "    f1_score,\n",
        "    roc_auc_score\n",
        ")\n",
        "from scipy.stats import ttest_rel\n",
        "import warnings\n",
        "warnings.filterwarnings('ignore')\n",
        "\n",
        "# Parameters\n",
        "n_runs = 100\n",
        "sample_size = 1000  # adjust if needed\n",
        "threshold_months = 24  # routing threshold\n",
        "prob_threshold = [0.85]  # list so we can loop\n",
        "\n",
        "results = []\n",
        "\n",
        "for prob in prob_threshold:\n",
        "    for run in range(n_runs):\n",
        "\n",
        "        # 1. Sample & slice H2OFrame (sorted indices to satisfy H2O row slicing)\n",
        "        random_indices = sorted(random.sample(range(cases2010to2018_test.nrow), sample_size))\n",
        "        test_sample = cases2010to2018_test[random_indices, :]\n",
        "\n",
        "        # 2. Ground truth\n",
        "        y_true_duration = test_sample['pendency_decision_filing'].as_data_frame().iloc[:, 0].values\n",
        "        # Map 'delayed' -> 0, 'ontime' -> 1\n",
        "        y_true_delay = test_sample['pendency_model_multiyear'].as_data_frame().iloc[:, 0].apply(\n",
        "            lambda x: 0 if x == \"delayed\" else 1\n",
        "        ).values\n",
        "\n",
        "        # -------------------------------------------------\n",
        "        # Helper: get Model-1c predictions + probs in batch\n",
        "        # -------------------------------------------------\n",
        "        model1c_pred_full = model1c.predict(test_sample).as_data_frame()\n",
        "        # predicted class mapped to 0/1\n",
        "        y_pred_class_1c = model1c_pred_full['predict'].apply(\n",
        "            lambda x: 0 if x == 'delayed' else 1\n",
        "        ).values\n",
        "        # probabilities: need prob of class \"ontime\" (positive class = 1)\n",
        "        # H2O frame typically has columns with class names; adapt if different\n",
        "        y_pred_prob_1c = model1c_pred_full['ontime'].values\n",
        "\n",
        "\n",
        "        # -------------------------------------------------\n",
        "        # Helper: get Model-2 baseline regression predictions in batch\n",
        "        # -------------------------------------------------\n",
        "        y_pred_dur_baseline_full = model2_baseline.predict(test_sample).as_data_frame().iloc[:, 0].values\n",
        "        # classify baseline as on-time (1) if predicted duration <= threshold\n",
        "        y_pred_class_baseline = (y_pred_dur_baseline_full <= threshold_months).astype(int)\n",
        "        # pseudo \"probability on-time\" from baseline:\n",
        "        # 1.0 if <= threshold, 0.0 otherwise\n",
        "        y_pred_prob_baseline = (y_pred_dur_baseline_full <= threshold_months).astype(float)\n",
        "\n",
        "        # =================================================\n",
        "        # APPROACH 0: True Delay -> Model-2 baseline\n",
        "        # =================================================\n",
        "        routed_preds_0 = []\n",
        "        for i, true_cls in enumerate(y_true_delay):\n",
        "            # both branches are model2_baseline, so no split actually\n",
        "            routed_preds_0.append(y_pred_dur_baseline_full[i])\n",
        "        routed_preds_0 = np.array(routed_preds_0)\n",
        "\n",
        "        rmse_0 = np.sqrt(mean_squared_error(y_true_duration, routed_preds_0))\n",
        "        mae_0 = mean_absolute_error(y_true_duration, routed_preds_0)\n",
        "        acc_class_0 = accuracy_score(y_true_delay, y_true_delay)  # always 1.0\n",
        "        align_0 = np.mean(y_true_delay == (routed_preds_0 <= threshold_months))\n",
        "\n",
        "        # F1 and AUC are \"perfect\" here because we're routing by ground truth.\n",
        "        f1_0 = f1_score(y_true_delay, y_true_delay, zero_division=0)\n",
        "        try:\n",
        "            auc_0 = roc_auc_score(y_true_delay, y_true_delay)\n",
        "        except:\n",
        "            auc_0 = np.nan\n",
        "\n",
        "        # =================================================\n",
        "        # APPROACH 1: True Delay -> Model-2a / Model-2b\n",
        "        # =================================================\n",
        "        routed_preds_1 = []\n",
        "        for i, true_cls in enumerate(y_true_delay):\n",
        "            if true_cls == 1:  # on-time\n",
        "                routed_preds_1.append(model2a.predict(test_sample[i, :]).as_data_frame().iloc[0, 0])\n",
        "            else:  # delayed\n",
        "                routed_preds_1.append(model2b.predict(test_sample[i, :]).as_data_frame().iloc[0, 0])\n",
        "        routed_preds_1 = np.array(routed_preds_1)\n",
        "\n",
        "        rmse_1 = np.sqrt(mean_squared_error(y_true_duration, routed_preds_1))\n",
        "        mae_1 = mean_absolute_error(y_true_duration, routed_preds_1)\n",
        "        acc_class_1 = accuracy_score(y_true_delay, y_true_delay)  # still 1.0\n",
        "        align_1 = np.mean(y_true_delay == (routed_preds_1 <= threshold_months))\n",
        "        f1_1 = f1_score(y_true_delay, y_true_delay, zero_division=0)\n",
        "        try:\n",
        "            auc_1 = roc_auc_score(y_true_delay, y_true_delay)\n",
        "        except:\n",
        "            auc_1 = np.nan\n",
        "\n",
        "        # =================================================\n",
        "        # APPROACH 2: Model-2 baseline -> Model-2a / Model-2b\n",
        "        # Delay predicted via baseline regression threshold\n",
        "        # =================================================\n",
        "        routed_preds_2 = []\n",
        "        for i, pred_dur in enumerate(y_pred_dur_baseline_full):\n",
        "            if pred_dur <= threshold_months:\n",
        "                routed_preds_2.append(model2a.predict(test_sample[i, :]).as_data_frame().iloc[0, 0])\n",
        "            else:\n",
        "                routed_preds_2.append(model2b.predict(test_sample[i, :]).as_data_frame().iloc[0, 0])\n",
        "        routed_preds_2 = np.array(routed_preds_2)\n",
        "\n",
        "        rmse_2 = np.sqrt(mean_squared_error(y_true_duration, routed_preds_2))\n",
        "        mae_2 = mean_absolute_error(y_true_duration, routed_preds_2)\n",
        "        acc_class_2 = accuracy_score(y_true_delay, y_pred_class_baseline)\n",
        "        align_2 = np.mean((y_pred_class_baseline == (routed_preds_2 <= threshold_months)))\n",
        "\n",
        "        f1_2 = f1_score(y_true_delay, y_pred_class_baseline, zero_division=0)\n",
        "        try:\n",
        "            auc_2 = roc_auc_score(y_true_delay, y_pred_prob_baseline)\n",
        "        except:\n",
        "            auc_2 = np.nan\n",
        "\n",
        "        # =================================================\n",
        "        # APPROACH 3: Model-1c classification -> Model-2a / Model-2b\n",
        "        # =================================================\n",
        "        routed_preds_3 = []\n",
        "        for i, pred_cls in enumerate(y_pred_class_1c):\n",
        "            if pred_cls == 1:  # on-time\n",
        "                routed_preds_3.append(model2a.predict(test_sample[i, :]).as_data_frame().iloc[0, 0])\n",
        "            else:  # delayed\n",
        "                routed_preds_3.append(model2b.predict(test_sample[i, :]).as_data_frame().iloc[0, 0])\n",
        "        routed_preds_3 = np.array(routed_preds_3)\n",
        "\n",
        "        rmse_3 = np.sqrt(mean_squared_error(y_true_duration, routed_preds_3))\n",
        "        mae_3 = mean_absolute_error(y_true_duration, routed_preds_3)\n",
        "        acc_class_3 = accuracy_score(y_true_delay, y_pred_class_1c)\n",
        "        align_3 = np.mean(y_pred_class_1c == (routed_preds_3 <= threshold_months))\n",
        "\n",
        "        f1_3 = f1_score(y_true_delay, y_pred_class_1c, zero_division=0)\n",
        "        try:\n",
        "            auc_3 = roc_auc_score(y_true_delay, y_pred_prob_1c)\n",
        "        except:\n",
        "            auc_3 = np.nan\n",
        "\n",
        "        # =================================================\n",
        "        # APPROACH 4: Hybrid routing (Model-1c + Model-2 baseline)\n",
        "        # Choose routing + final class with probability threshold\n",
        "        # =================================================\n",
        "        routed_preds_4 = []\n",
        "        y_pred_class_mix = []\n",
        "        y_pred_prob_mix = []\n",
        "\n",
        "        for i, (cls_1c, prob_1c, pred_dur) in enumerate(\n",
        "            zip(y_pred_class_1c, y_pred_prob_1c, y_pred_dur_baseline_full)\n",
        "        ):\n",
        "            # decide classification/routing:\n",
        "            if cls_1c == 1:  # Model-1c says on-time\n",
        "                if pred_dur <= threshold_months:\n",
        "                    # both agree it's on-time\n",
        "                    routed_preds_4.append(model2a.predict(test_sample[i, :]).as_data_frame().iloc[0, 0])\n",
        "                    y_pred_class_mix.append(1)\n",
        "                    y_pred_prob_mix.append(prob_1c)\n",
        "                else:\n",
        "                    # disagreement -> use prob threshold\n",
        "                    if prob_1c > prob:\n",
        "                        routed_preds_4.append(model2a.predict(test_sample[i, :]).as_data_frame().iloc[0, 0])\n",
        "                        y_pred_class_mix.append(1)\n",
        "                        y_pred_prob_mix.append(prob_1c)\n",
        "                    else:\n",
        "                        # fall back to baseline\n",
        "                        baseline_pred = y_pred_dur_baseline_full[i]\n",
        "                        routed_preds_4.append(baseline_pred)\n",
        "                        cls_base = 1 if baseline_pred <= threshold_months else 0\n",
        "                        y_pred_class_mix.append(cls_base)\n",
        "                        y_pred_prob_mix.append(1.0 if cls_base == 1 else 0.0)\n",
        "\n",
        "            else:  # cls_1c == 0 (delayed)\n",
        "                if pred_dur > threshold_months:\n",
        "                    # both agree it's delayed\n",
        "                    routed_preds_4.append(model2b.predict(test_sample[i, :]).as_data_frame().iloc[0, 0])\n",
        "                    y_pred_class_mix.append(0)\n",
        "                    y_pred_prob_mix.append(prob_1c)  # prob delayed approx\n",
        "                else:\n",
        "                    # disagreement -> use prob threshold\n",
        "                    if (1 - prob_1c) > prob:\n",
        "                        routed_preds_4.append(model2b.predict(test_sample[i, :]).as_data_frame().iloc[0, 0])\n",
        "                        y_pred_class_mix.append(0)\n",
        "                        y_pred_prob_mix.append(prob_1c)\n",
        "                    else:\n",
        "                        baseline_pred = y_pred_dur_baseline_full[i]\n",
        "                        routed_preds_4.append(baseline_pred)\n",
        "                        cls_base = 1 if baseline_pred <= threshold_months else 0\n",
        "                        y_pred_class_mix.append(cls_base)\n",
        "                        y_pred_prob_mix.append(1.0 if cls_base == 1 else 0.0)\n",
        "\n",
        "        routed_preds_4 = np.array(routed_preds_4)\n",
        "        y_pred_class_mix = np.array(y_pred_class_mix)\n",
        "        y_pred_prob_mix = np.array(y_pred_prob_mix, dtype=float)\n",
        "\n",
        "        rmse_4 = np.sqrt(mean_squared_error(y_true_duration, routed_preds_4))\n",
        "        mae_4 = mean_absolute_error(y_true_duration, routed_preds_4)\n",
        "        acc_class_4 = accuracy_score(y_true_delay, y_pred_class_mix)\n",
        "        align_4 = np.mean(y_pred_class_mix == (routed_preds_4 <= threshold_months))\n",
        "\n",
        "        f1_4 = f1_score(y_true_delay, y_pred_class_mix, zero_division=0)\n",
        "        try:\n",
        "            auc_4 = roc_auc_score(y_true_delay, y_pred_prob_mix)\n",
        "        except:\n",
        "            auc_4 = np.nan\n",
        "\n",
        "        # -------------------------------------------------\n",
        "        # Collect per-run metrics\n",
        "        # -------------------------------------------------\n",
        "        results.append({\n",
        "            # Approach 0\n",
        "            'RMSE_TrueDelay+Model2baseline': rmse_0,\n",
        "            'MAE_TrueDelay+Model2baseline': mae_0,\n",
        "            'ACC_Class_TrueDelay+Model2baseline': acc_class_0,\n",
        "            'F1_TrueDelay+Model2baseline': f1_0 * 100.0,\n",
        "            'AUC_TrueDelay+Model2baseline': auc_0,\n",
        "            'Align_TrueDelay+Model2baseline': align_0,\n",
        "\n",
        "            # Approach 1\n",
        "            'RMSE_TrueDelay+Model2a_b': rmse_1,\n",
        "            'MAE_TrueDelay+Model2a_b': mae_1,\n",
        "            'ACC_Class_TrueDelay+Model2a_b': acc_class_1,\n",
        "            'F1_TrueDelay+Model2a_b': f1_1 * 100.0,\n",
        "            'AUC_TrueDelay+Model2a_b': auc_1,\n",
        "            'Align_TrueDelay+Model2a_b': align_1,\n",
        "\n",
        "            # Approach 2\n",
        "            'RMSE_Model2Baseline+Model2a_b': rmse_2,\n",
        "            'MAE_Model2Baseline+Model2a_b': mae_2,\n",
        "            'ACC_Class_Model2Baseline+Model2a_b': acc_class_2,\n",
        "            'F1_Model2Baseline+Model2a_b': f1_2 * 100.0,\n",
        "            'AUC_Model2Baseline+Model2a_b': auc_2,\n",
        "            'Align_Model2Baseline+Model2a_b': align_2,\n",
        "\n",
        "            # Approach 3\n",
        "            'RMSE_Model1c+Model2a_b': rmse_3,\n",
        "            'MAE_Model1c+Model2a_b': mae_3,\n",
        "            'ACC_Class_Model1c+Model2a_b': acc_class_3,\n",
        "            'F1_Model1c+Model2a_b': f1_3 * 100.0,\n",
        "            'AUC_Model1c+Model2a_b': auc_3,\n",
        "            'Align_Model1c+Model2a_b': align_3,\n",
        "\n",
        "            # Approach 4\n",
        "            'RMSE_Model1c+Baseline+Model2a_b': rmse_4,\n",
        "            'MAE_Model1c+Baseline+Model2a_b': mae_4,\n",
        "            'ACC_Class_Model1c+Baseline+Model2a_b': acc_class_4,\n",
        "            'F1_Model1c+Baseline+Model2a_b': f1_4 * 100.0,\n",
        "            'AUC_Model1c+Baseline+Model2a_b': auc_4,\n",
        "            'Align_Model1c+Baseline+Model2a_b': align_4,\n",
        "        })\n",
        "\n",
        "# After all runs\n",
        "df_results = pd.DataFrame(results)\n",
        "\n",
        "# Save raw runs\n",
        "file_name = (\n",
        "    \"/content/drive/MyDrive/Colab Notebooks/Law/paper2&3/\"\n",
        "    \"paperpredictivecriminal/ToShare/ablation_results_85_final.csv\"\n",
        ")\n",
        "df_results.to_csv(file_name, index=False)\n",
        "\n",
        "# Summary (mean and std across runs)\n",
        "summary = df_results.mean().to_frame(name='Mean').join(\n",
        "    df_results.std().to_frame(name='Std')\n",
        ")\n",
        "\n",
        "print(summary)\n"
      ],
      "metadata": {
        "colab": {
          "base_uri": "https://localhost:8080/"
        },
        "id": "n7UGfjgKgnzE",
        "outputId": "bf22abfe-52a1-48e3-9b46-7311998cb1fa"
      },
      "execution_count": null,
      "outputs": [
        {
          "output_type": "stream",
          "name": "stdout",
          "text": [
            "generic prediction progress: |███████████████████████████████████████████████████| (done) 100%\n",
            "generic prediction progress: |███████████████████████████████████████████████████| (done) 100%\n",
            "generic prediction progress: |███████████████████████████████████████████████████| (done) 100%\n",
            "generic prediction progress: |███████████████████████████████████████████████████| (done) 100%\n",
            "generic prediction progress: |███████████████████████████████████████████████████| (done) 100%\n",
            "generic prediction progress: |███████████████████████████████████████████████████| (done) 100%\n",
            "generic prediction progress: |███████████████████████████████████████████████████| (done) 100%\n",
            "generic prediction progress: |███████████████████████████████████████████████████| (done) 100%\n",
            "generic prediction progress: |███████████████████████████████████████████████████| (done) 100%\n",
            "generic prediction progress: |███████████████████████████████████████████████████| (done) 100%\n",
            "generic prediction progress: |███████████████████████████████████████████████████| (done) 100%\n",
            "generic prediction progress: |███████████████████████████████████████████████████| (done) 100%\n",
            "generic prediction progress: |███████████████████████████████████████████████████| (done) 100%\n",
            "generic prediction progress: |███████████████████████████████████████████████████| (done) 100%\n",
            "generic prediction progress: |███████████████████████████████████████████████████| (done) 100%\n",
            "generic prediction progress: |███████████████████████████████████████████████████| (done) 100%\n",
            "generic prediction progress: |███████████████████████████████████████████████████| (done) 100%\n",
            "generic prediction progress: |███████████████████████████████████████████████████| (done) 100%\n",
            "generic prediction progress: |███████████████████████████████████████████████████| (done) 100%\n",
            "generic prediction progress: |███████████████████████████████████████████████████| (done) 100%\n",
            "generic prediction progress: |███████████████████████████████████████████████████| (done) 100%\n",
            "generic prediction progress: |███████████████████████████████████████████████████| (done) 100%\n",
            "generic prediction progress: |███████████████████████████████████████████████████| (done) 100%\n",
            "generic prediction progress: |███████████████████████████████████████████████████| (done) 100%\n",
            "generic prediction progress: |███████████████████████████████████████████████████| (done) 100%\n",
            "generic prediction progress: |███████████████████████████████████████████████████| (done) 100%\n",
            "generic prediction progress: |███████████████████████████████████████████████████| (done) 100%\n",
            "generic prediction progress: |███████████████████████████████████████████████████| (done) 100%\n",
            "generic prediction progress: |███████████████████████████████████████████████████| (done) 100%\n",
            "generic prediction progress: |███████████████████████████████████████████████████| (done) 100%\n",
            "generic prediction progress: |███████████████████████████████████████████████████| (done) 100%\n",
            "generic prediction progress: |███████████████████████████████████████████████████| (done) 100%\n",
            "generic prediction progress: |███████████████████████████████████████████████████| (done) 100%\n",
            "generic prediction progress: |███████████████████████████████████████████████████| (done) 100%\n",
            "generic prediction progress: |███████████████████████████████████████████████████| (done) 100%\n",
            "generic prediction progress: |███████████████████████████████████████████████████| (done) 100%\n",
            "generic prediction progress: |███████████████████████████████████████████████████| (done) 100%\n",
            "generic prediction progress: |███████████████████████████████████████████████████| (done) 100%\n",
            "generic prediction progress: |███████████████████████████████████████████████████| (done) 100%\n",
            "generic prediction progress: |███████████████████████████████████████████████████| (done) 100%\n",
            "generic prediction progress: |███████████████████████████████████████████████████| (done) 100%\n",
            "generic prediction progress: |███████████████████████████████████████████████████| (done) 100%\n",
            "generic prediction progress: |███████████████████████████████████████████████████| (done) 100%\n",
            "generic prediction progress: |███████████████████████████████████████████████████| (done) 100%\n",
            "generic prediction progress: |███████████████████████████████████████████████████| (done) 100%\n",
            "generic prediction progress: |███████████████████████████████████████████████████| (done) 100%\n",
            "generic prediction progress: |███████████████████████████████████████████████████| (done) 100%\n",
            "generic prediction progress: |███████████████████████████████████████████████████| (done) 100%\n",
            "generic prediction progress: |███████████████████████████████████████████████████| (done) 100%\n",
            "generic prediction progress: |███████████████████████████████████████████████████| (done) 100%\n",
            "generic prediction progress: |███████████████████████████████████████████████████| (done) 100%\n",
            "generic prediction progress: |███████████████████████████████████████████████████| (done) 100%\n",
            "generic prediction progress: |███████████████████████████████████████████████████| (done) 100%\n",
            "generic prediction progress: |███████████████████████████████████████████████████| (done) 100%\n",
            "generic prediction progress: |███████████████████████████████████████████████████| (done) 100%\n",
            "generic prediction progress: |███████████████████████████████████████████████████| (done) 100%\n",
            "generic prediction progress: |███████████████████████████████████████████████████| (done) 100%\n",
            "generic prediction progress: |███████████████████████████████████████████████████| (done) 100%\n",
            "generic prediction progress: |███████████████████████████████████████████████████| (done) 100%\n",
            "generic prediction progress: |███████████████████████████████████████████████████| (done) 100%\n",
            "generic prediction progress: |███████████████████████████████████████████████████| (done) 100%\n",
            "generic prediction progress: |███████████████████████████████████████████████████| (done) 100%\n",
            "generic prediction progress: |███████████████████████████████████████████████████| (done) 100%\n",
            "generic prediction progress: |███████████████████████████████████████████████████| (done) 100%\n",
            "generic prediction progress: |███████████████████████████████████████████████████| (done) 100%\n",
            "generic prediction progress: |███████████████████████████████████████████████████| (done) 100%\n",
            "generic prediction progress: |███████████████████████████████████████████████████| (done) 100%\n",
            "generic prediction progress: |███████████████████████████████████████████████████| (done) 100%\n",
            "generic prediction progress: |███████████████████████████████████████████████████| (done) 100%\n",
            "generic prediction progress: |███████████████████████████████████████████████████| (done) 100%\n",
            "generic prediction progress: |███████████████████████████████████████████████████| (done) 100%\n",
            "generic prediction progress: |███████████████████████████████████████████████████| (done) 100%\n",
            "generic prediction progress: |███████████████████████████████████████████████████| (done) 100%\n",
            "generic prediction progress: |███████████████████████████████████████████████████| (done) 100%\n",
            "generic prediction progress: |███████████████████████████████████████████████████| (done) 100%\n",
            "generic prediction progress: |███████████████████████████████████████████████████| (done) 100%\n",
            "generic prediction progress: |███████████████████████████████████████████████████| (done) 100%\n",
            "generic prediction progress: |███████████████████████████████████████████████████| (done) 100%\n",
            "generic prediction progress: |███████████████████████████████████████████████████| (done) 100%\n",
            "generic prediction progress: |███████████████████████████████████████████████████| (done) 100%\n",
            "generic prediction progress: |███████████████████████████████████████████████████| (done) 100%\n",
            "generic prediction progress: |███████████████████████████████████████████████████| (done) 100%\n",
            "generic prediction progress: |███████████████████████████████████████████████████| (done) 100%\n",
            "generic prediction progress: |███████████████████████████████████████████████████| (done) 100%\n",
            "generic prediction progress: |███████████████████████████████████████████████████| (done) 100%\n",
            "generic prediction progress: |███████████████████████████████████████████████████| (done) 100%\n",
            "generic prediction progress: |███████████████████████████████████████████████████| (done) 100%\n",
            "generic prediction progress: |███████████████████████████████████████████████████| (done) 100%\n",
            "generic prediction progress: |███████████████████████████████████████████████████| (done) 100%\n",
            "generic prediction progress: |███████████████████████████████████████████████████| (done) 100%\n",
            "generic prediction progress: |███████████████████████████████████████████████████| (done) 100%\n",
            "generic prediction progress: |███████████████████████████████████████████████████| (done) 100%\n",
            "generic prediction progress: |███████████████████████████████████████████████████| (done) 100%\n",
            "generic prediction progress: |███████████████████████████████████████████████████| (done) 100%\n",
            "generic prediction progress: |███████████████████████████████████████████████████| (done) 100%\n",
            "generic prediction progress: |███████████████████████████████████████████████████| (done) 100%\n",
            "generic prediction progress: |███████████████████████████████████████████████████| (done) 100%\n",
            "generic prediction progress: |███████████████████████████████████████████████████| (done) 100%\n",
            "generic prediction progress: |███████████████████████████████████████████████████| (done) 100%\n",
            "generic prediction progress: |███████████████████████████████████████████████████| (done) 100%\n",
            "generic prediction progress: |███████████████████████████████████████████████████| (done) 100%\n",
            "generic prediction progress: |███████████████████████████████████████████████████| (done) 100%\n",
            "generic prediction progress: |███████████████████████████████████████████████████| (done) 100%\n",
            "generic prediction progress: |███████████████████████████████████████████████████| (done) 100%\n",
            "generic prediction progress: |███████████████████████████████████████████████████| (done) 100%\n",
            "generic prediction progress: |███████████████████████████████████████████████████| (done) 100%\n",
            "generic prediction progress: |███████████████████████████████████████████████████| (done) 100%\n",
            "generic prediction progress: |███████████████████████████████████████████████████| (done) 100%\n",
            "generic prediction progress: |███████████████████████████████████████████████████| (done) 100%\n",
            "generic prediction progress: |███████████████████████████████████████████████████| (done) 100%\n",
            "generic prediction progress: |███████████████████████████████████████████████████| (done) 100%\n",
            "generic prediction progress: |███████████████████████████████████████████████████| (done) 100%\n",
            "generic prediction progress: |███████████████████████████████████████████████████| (done) 100%\n",
            "generic prediction progress: |███████████████████████████████████████████████████| (done) 100%\n",
            "generic prediction progress: |███████████████████████████████████████████████████| (done) 100%\n",
            "generic prediction progress: |███████████████████████████████████████████████████| (done) 100%\n",
            "generic prediction progress: |███████████████████████████████████████████████████| (done) 100%\n",
            "generic prediction progress: |███████████████████████████████████████████████████| (done) 100%\n",
            "generic prediction progress: |███████████████████████████████████████████████████| (done) 100%\n",
            "generic prediction progress: |███████████████████████████████████████████████████| (done) 100%\n",
            "generic prediction progress: |███████████████████████████████████████████████████| (done) 100%\n",
            "generic prediction progress: |███████████████████████████████████████████████████| (done) 100%\n",
            "generic prediction progress: |███████████████████████████████████████████████████| (done) 100%\n",
            "generic prediction progress: |███████████████████████████████████████████████████| (done) 100%\n",
            "generic prediction progress: |███████████████████████████████████████████████████| (done) 100%\n",
            "generic prediction progress: |███████████████████████████████████████████████████| (done) 100%\n",
            "generic prediction progress: |███████████████████████████████████████████████████| (done) 100%\n",
            "generic prediction progress: |███████████████████████████████████████████████████| (done) 100%\n",
            "generic prediction progress: |███████████████████████████████████████████████████| (done) 100%\n",
            "generic prediction progress: |███████████████████████████████████████████████████| (done) 100%\n",
            "generic prediction progress: |███████████████████████████████████████████████████| (done) 100%\n",
            "generic prediction progress: |███████████████████████████████████████████████████| (done) 100%\n",
            "generic prediction progress: |███████████████████████████████████████████████████| (done) 100%\n",
            "generic prediction progress: |███████████████████████████████████████████████████| (done) 100%\n",
            "generic prediction progress: |███████████████████████████████████████████████████| (done) 100%\n",
            "generic prediction progress: |███████████████████████████████████████████████████| (done) 100%\n",
            "generic prediction progress: |███████████████████████████████████████████████████| (done) 100%\n",
            "generic prediction progress: |███████████████████████████████████████████████████| (done) 100%\n",
            "generic prediction progress: |███████████████████████████████████████████████████| (done) 100%\n",
            "generic prediction progress: |███████████████████████████████████████████████████| (done) 100%\n",
            "generic prediction progress: |███████████████████████████████████████████████████| (done) 100%\n",
            "generic prediction progress: |███████████████████████████████████████████████████| (done) 100%\n",
            "generic prediction progress: |███████████████████████████████████████████████████| (done) 100%\n",
            "generic prediction progress: |███████████████████████████████████████████████████| (done) 100%\n",
            "generic prediction progress: |███████████████████████████████████████████████████| (done) 100%\n",
            "generic prediction progress: |███████████████████████████████████████████████████| (done) 100%\n",
            "generic prediction progress: |███████████████████████████████████████████████████| (done) 100%\n",
            "generic prediction progress: |███████████████████████████████████████████████████| (done) 100%\n",
            "generic prediction progress: |███████████████████████████████████████████████████| (done) 100%\n",
            "generic prediction progress: |███████████████████████████████████████████████████| (done) 100%\n",
            "generic prediction progress: |███████████████████████████████████████████████████| (done) 100%\n",
            "generic prediction progress: |███████████████████████████████████████████████████| (done) 100%\n",
            "generic prediction progress: |███████████████████████████████████████████████████| (done) 100%\n",
            "generic prediction progress: |███████████████████████████████████████████████████| (done) 100%\n",
            "generic prediction progress: |███████████████████████████████████████████████████| (done) 100%\n",
            "generic prediction progress: |███████████████████████████████████████████████████| (done) 100%\n",
            "generic prediction progress: |███████████████████████████████████████████████████| (done) 100%\n",
            "generic prediction progress: |███████████████████████████████████████████████████| (done) 100%\n",
            "generic prediction progress: |███████████████████████████████████████████████████| (done) 100%\n",
            "generic prediction progress: |███████████████████████████████████████████████████| (done) 100%\n",
            "generic prediction progress: |███████████████████████████████████████████████████| (done) 100%\n",
            "generic prediction progress: |███████████████████████████████████████████████████| (done) 100%\n",
            "generic prediction progress: |███████████████████████████████████████████████████| (done) 100%\n",
            "generic prediction progress: |███████████████████████████████████████████████████| (done) 100%\n",
            "generic prediction progress: |███████████████████████████████████████████████████| (done) 100%\n",
            "generic prediction progress: |███████████████████████████████████████████████████| (done) 100%\n",
            "generic prediction progress: |███████████████████████████████████████████████████| (done) 100%\n",
            "generic prediction progress: |███████████████████████████████████████████████████| (done) 100%\n",
            "generic prediction progress: |███████████████████████████████████████████████████| (done) 100%\n",
            "generic prediction progress: |███████████████████████████████████████████████████| (done) 100%\n",
            "generic prediction progress: |███████████████████████████████████████████████████| (done) 100%\n",
            "generic prediction progress: |███████████████████████████████████████████████████| (done) 100%\n",
            "generic prediction progress: |███████████████████████████████████████████████████| (done) 100%\n",
            "generic prediction progress: |███████████████████████████████████████████████████| (done) 100%\n",
            "generic prediction progress: |███████████████████████████████████████████████████| (done) 100%\n",
            "generic prediction progress: |███████████████████████████████████████████████████| (done) 100%\n",
            "generic prediction progress: |███████████████████████████████████████████████████| (done) 100%\n",
            "generic prediction progress: |███████████████████████████████████████████████████| (done) 100%\n",
            "generic prediction progress: |███████████████████████████████████████████████████| (done) 100%\n",
            "generic prediction progress: |███████████████████████████████████████████████████| (done) 100%\n",
            "generic prediction progress: |███████████████████████████████████████████████████| (done) 100%\n",
            "generic prediction progress: |███████████████████████████████████████████████████| (done) 100%\n",
            "generic prediction progress: |███████████████████████████████████████████████████| (done) 100%\n",
            "generic prediction progress: |███████████████████████████████████████████████████| (done) 100%\n",
            "generic prediction progress: |███████████████████████████████████████████████████| (done) 100%\n",
            "generic prediction progress: |███████████████████████████████████████████████████| (done) 100%\n",
            "generic prediction progress: |███████████████████████████████████████████████████| (done) 100%\n",
            "generic prediction progress: |███████████████████████████████████████████████████| (done) 100%\n",
            "generic prediction progress: |███████████████████████████████████████████████████| (done) 100%\n",
            "generic prediction progress: |███████████████████████████████████████████████████| (done) 100%\n",
            "generic prediction progress: |███████████████████████████████████████████████████| (done) 100%\n",
            "generic prediction progress: |███████████████████████████████████████████████████| (done) 100%\n",
            "generic prediction progress: |███████████████████████████████████████████████████| (done) 100%\n",
            "generic prediction progress: |███████████████████████████████████████████████████| (done) 100%\n",
            "generic prediction progress: |███████████████████████████████████████████████████| (done) 100%\n",
            "generic prediction progress: |███████████████████████████████████████████████████| (done) 100%\n",
            "generic prediction progress: |███████████████████████████████████████████████████| (done) 100%\n",
            "generic prediction progress: |███████████████████████████████████████████████████| (done) 100%\n",
            "generic prediction progress: |███████████████████████████████████████████████████| (done) 100%\n",
            "generic prediction progress: |███████████████████████████████████████████████████| (done) 100%\n",
            "generic prediction progress: |███████████████████████████████████████████████████| (done) 100%\n",
            "generic prediction progress: |███████████████████████████████████████████████████| (done) 100%\n",
            "generic prediction progress: |███████████████████████████████████████████████████| (done) 100%\n",
            "generic prediction progress: |███████████████████████████████████████████████████| (done) 100%\n",
            "generic prediction progress: |███████████████████████████████████████████████████| (done) 100%\n",
            "generic prediction progress: |███████████████████████████████████████████████████| (done) 100%\n",
            "generic prediction progress: |███████████████████████████████████████████████████| (done) 100%\n",
            "generic prediction progress: |███████████████████████████████████████████████████| (done) 100%\n",
            "generic prediction progress: |███████████████████████████████████████████████████| (done) 100%\n",
            "generic prediction progress: |███████████████████████████████████████████████████| (done) 100%\n",
            "generic prediction progress: |███████████████████████████████████████████████████| (done) 100%\n",
            "generic prediction progress: |███████████████████████████████████████████████████| (done) 100%\n",
            "generic prediction progress: |███████████████████████████████████████████████████| (done) 100%\n",
            "generic prediction progress: |███████████████████████████████████████████████████| (done) 100%\n",
            "generic prediction progress: |███████████████████████████████████████████████████| (done) 100%\n",
            "generic prediction progress: |███████████████████████████████████████████████████| (done) 100%\n",
            "generic prediction progress: |███████████████████████████████████████████████████| (done) 100%\n",
            "generic prediction progress: |███████████████████████████████████████████████████| (done) 100%\n",
            "generic prediction progress: |███████████████████████████████████████████████████| (done) 100%\n",
            "generic prediction progress: |███████████████████████████████████████████████████| (done) 100%\n",
            "generic prediction progress: |███████████████████████████████████████████████████| (done) 100%\n",
            "generic prediction progress: |███████████████████████████████████████████████████| (done) 100%\n",
            "generic prediction progress: |███████████████████████████████████████████████████| (done) 100%\n",
            "generic prediction progress: |███████████████████████████████████████████████████| (done) 100%\n",
            "generic prediction progress: |███████████████████████████████████████████████████| (done) 100%\n",
            "generic prediction progress: |███████████████████████████████████████████████████| (done) 100%\n",
            "generic prediction progress: |███████████████████████████████████████████████████| (done) 100%\n",
            "generic prediction progress: |███████████████████████████████████████████████████| (done) 100%\n",
            "generic prediction progress: |███████████████████████████████████████████████████| (done) 100%\n",
            "generic prediction progress: |███████████████████████████████████████████████████| (done) 100%\n",
            "generic prediction progress: |███████████████████████████████████████████████████| (done) 100%\n",
            "generic prediction progress: |███████████████████████████████████████████████████| (done) 100%\n",
            "generic prediction progress: |███████████████████████████████████████████████████| (done) 100%\n",
            "generic prediction progress: |███████████████████████████████████████████████████| (done) 100%\n",
            "generic prediction progress: |███████████████████████████████████████████████████| (done) 100%\n",
            "generic prediction progress: |███████████████████████████████████████████████████| (done) 100%\n",
            "generic prediction progress: |███████████████████████████████████████████████████| (done) 100%\n",
            "generic prediction progress: |███████████████████████████████████████████████████| (done) 100%\n",
            "generic prediction progress: |███████████████████████████████████████████████████| (done) 100%\n",
            "generic prediction progress: |███████████████████████████████████████████████████| (done) 100%\n",
            "generic prediction progress: |███████████████████████████████████████████████████| (done) 100%\n",
            "generic prediction progress: |███████████████████████████████████████████████████| (done) 100%\n",
            "generic prediction progress: |███████████████████████████████████████████████████| (done) 100%\n",
            "generic prediction progress: |███████████████████████████████████████████████████| (done) 100%\n",
            "generic prediction progress: |███████████████████████████████████████████████████| (done) 100%\n",
            "generic prediction progress: |███████████████████████████████████████████████████| (done) 100%\n",
            "generic prediction progress: |███████████████████████████████████████████████████| (done) 100%\n",
            "generic prediction progress: |███████████████████████████████████████████████████| (done) 100%\n",
            "generic prediction progress: |███████████████████████████████████████████████████| (done) 100%\n",
            "generic prediction progress: |███████████████████████████████████████████████████| (done) 100%\n",
            "generic prediction progress: |███████████████████████████████████████████████████| (done) 100%\n",
            "generic prediction progress: |███████████████████████████████████████████████████| (done) 100%\n",
            "generic prediction progress: |███████████████████████████████████████████████████| (done) 100%\n",
            "generic prediction progress: |███████████████████████████████████████████████████| (done) 100%\n",
            "generic prediction progress: |███████████████████████████████████████████████████| (done) 100%\n",
            "generic prediction progress: |███████████████████████████████████████████████████| (done) 100%\n",
            "generic prediction progress: |███████████████████████████████████████████████████| (done) 100%\n",
            "generic prediction progress: |███████████████████████████████████████████████████| (done) 100%\n",
            "generic prediction progress: |███████████████████████████████████████████████████| (done) 100%\n",
            "generic prediction progress: |███████████████████████████████████████████████████| (done) 100%\n",
            "generic prediction progress: |███████████████████████████████████████████████████| (done) 100%\n",
            "generic prediction progress: |███████████████████████████████████████████████████| (done) 100%\n",
            "generic prediction progress: |███████████████████████████████████████████████████| (done) 100%\n",
            "generic prediction progress: |███████████████████████████████████████████████████| (done) 100%\n",
            "generic prediction progress: |███████████████████████████████████████████████████| (done) 100%\n",
            "generic prediction progress: |███████████████████████████████████████████████████| (done) 100%\n",
            "generic prediction progress: |███████████████████████████████████████████████████| (done) 100%\n",
            "generic prediction progress: |███████████████████████████████████████████████████| (done) 100%\n",
            "generic prediction progress: |███████████████████████████████████████████████████| (done) 100%\n",
            "generic prediction progress: |███████████████████████████████████████████████████| (done) 100%\n",
            "generic prediction progress: |███████████████████████████████████████████████████| (done) 100%\n",
            "generic prediction progress: |███████████████████████████████████████████████████| (done) 100%\n",
            "generic prediction progress: |███████████████████████████████████████████████████| (done) 100%\n",
            "generic prediction progress: |███████████████████████████████████████████████████| (done) 100%\n",
            "generic prediction progress: |███████████████████████████████████████████████████| (done) 100%\n",
            "generic prediction progress: |███████████████████████████████████████████████████| (done) 100%\n",
            "generic prediction progress: |███████████████████████████████████████████████████| (done) 100%\n",
            "generic prediction progress: |███████████████████████████████████████████████████| (done) 100%\n",
            "generic prediction progress: |███████████████████████████████████████████████████| (done) 100%\n",
            "generic prediction progress: |███████████████████████████████████████████████████| (done) 100%\n",
            "generic prediction progress: |███████████████████████████████████████████████████| (done) 100%\n",
            "generic prediction progress: |███████████████████████████████████████████████████| (done) 100%\n",
            "generic prediction progress: |███████████████████████████████████████████████████| (done) 100%\n",
            "generic prediction progress: |███████████████████████████████████████████████████| (done) 100%\n",
            "generic prediction progress: |███████████████████████████████████████████████████| (done) 100%\n",
            "generic prediction progress: |███████████████████████████████████████████████████| (done) 100%\n",
            "generic prediction progress: |███████████████████████████████████████████████████| (done) 100%\n",
            "generic prediction progress: |███████████████████████████████████████████████████| (done) 100%\n",
            "generic prediction progress: |███████████████████████████████████████████████████| (done) 100%\n",
            "generic prediction progress: |███████████████████████████████████████████████████| (done) 100%\n",
            "generic prediction progress: |███████████████████████████████████████████████████| (done) 100%\n",
            "generic prediction progress: |███████████████████████████████████████████████████| (done) 100%\n",
            "generic prediction progress: |███████████████████████████████████████████████████| (done) 100%\n",
            "generic prediction progress: |███████████████████████████████████████████████████| (done) 100%\n",
            "generic prediction progress: |███████████████████████████████████████████████████| (done) 100%\n",
            "generic prediction progress: |███████████████████████████████████████████████████| (done) 100%\n",
            "generic prediction progress: |███████████████████████████████████████████████████| (done) 100%\n",
            "generic prediction progress: |███████████████████████████████████████████████████| (done) 100%\n",
            "generic prediction progress: |███████████████████████████████████████████████████| (done) 100%\n",
            "generic prediction progress: |███████████████████████████████████████████████████| (done) 100%\n",
            "generic prediction progress: |███████████████████████████████████████████████████| (done) 100%\n",
            "generic prediction progress: |███████████████████████████████████████████████████| (done) 100%\n",
            "generic prediction progress: |███████████████████████████████████████████████████| (done) 100%\n",
            "generic prediction progress: |███████████████████████████████████████████████████| (done) 100%\n",
            "generic prediction progress: |███████████████████████████████████████████████████| (done) 100%\n",
            "generic prediction progress: |███████████████████████████████████████████████████| (done) 100%\n",
            "generic prediction progress: |███████████████████████████████████████████████████| (done) 100%\n",
            "generic prediction progress: |███████████████████████████████████████████████████| (done) 100%\n",
            "generic prediction progress: |███████████████████████████████████████████████████| (done) 100%\n",
            "generic prediction progress: |███████████████████████████████████████████████████| (done) 100%\n",
            "generic prediction progress: |███████████████████████████████████████████████████| (done) 100%\n",
            "generic prediction progress: |███████████████████████████████████████████████████| (done) 100%\n",
            "generic prediction progress: |███████████████████████████████████████████████████| (done) 100%\n",
            "generic prediction progress: |███████████████████████████████████████████████████| (done) 100%\n",
            "generic prediction progress: |███████████████████████████████████████████████████| (done) 100%\n",
            "generic prediction progress: |███████████████████████████████████████████████████| (done) 100%\n",
            "generic prediction progress: |███████████████████████████████████████████████████| (done) 100%\n",
            "generic prediction progress: |███████████████████████████████████████████████████| (done) 100%\n",
            "generic prediction progress: |███████████████████████████████████████████████████| (done) 100%\n",
            "generic prediction progress: |███████████████████████████████████████████████████| (done) 100%\n",
            "generic prediction progress: |███████████████████████████████████████████████████| (done) 100%\n",
            "generic prediction progress: |███████████████████████████████████████████████████| (done) 100%\n",
            "generic prediction progress: |███████████████████████████████████████████████████| (done) 100%\n",
            "generic prediction progress: |███████████████████████████████████████████████████| (done) 100%\n",
            "generic prediction progress: |███████████████████████████████████████████████████| (done) 100%\n",
            "generic prediction progress: |███████████████████████████████████████████████████| (done) 100%\n",
            "generic prediction progress: |███████████████████████████████████████████████████| (done) 100%\n",
            "generic prediction progress: |███████████████████████████████████████████████████| (done) 100%\n",
            "generic prediction progress: |███████████████████████████████████████████████████| (done) 100%\n",
            "generic prediction progress: |███████████████████████████████████████████████████| (done) 100%\n",
            "generic prediction progress: |███████████████████████████████████████████████████| (done) 100%\n",
            "generic prediction progress: |███████████████████████████████████████████████████| (done) 100%\n",
            "generic prediction progress: |███████████████████████████████████████████████████| (done) 100%\n",
            "generic prediction progress: |███████████████████████████████████████████████████| (done) 100%\n",
            "generic prediction progress: |███████████████████████████████████████████████████| (done) 100%\n",
            "generic prediction progress: |███████████████████████████████████████████████████| (done) 100%\n",
            "generic prediction progress: |███████████████████████████████████████████████████| (done) 100%\n",
            "generic prediction progress: |███████████████████████████████████████████████████| (done) 100%\n",
            "generic prediction progress: |███████████████████████████████████████████████████| (done) 100%\n",
            "generic prediction progress: |███████████████████████████████████████████████████| (done) 100%\n",
            "generic prediction progress: |███████████████████████████████████████████████████| (done) 100%\n",
            "generic prediction progress: |███████████████████████████████████████████████████| (done) 100%\n",
            "generic prediction progress: |███████████████████████████████████████████████████| (done) 100%\n",
            "generic prediction progress: |███████████████████████████████████████████████████| (done) 100%\n",
            "generic prediction progress: |███████████████████████████████████████████████████| (done) 100%\n",
            "generic prediction progress: |███████████████████████████████████████████████████| (done) 100%\n",
            "generic prediction progress: |███████████████████████████████████████████████████| (done) 100%\n",
            "generic prediction progress: |███████████████████████████████████████████████████| (done) 100%\n",
            "generic prediction progress: |███████████████████████████████████████████████████| (done) 100%\n",
            "generic prediction progress: |███████████████████████████████████████████████████| (done) 100%\n",
            "generic prediction progress: |███████████████████████████████████████████████████| (done) 100%\n",
            "generic prediction progress: |███████████████████████████████████████████████████| (done) 100%\n",
            "generic prediction progress: |███████████████████████████████████████████████████| (done) 100%\n",
            "generic prediction progress: |███████████████████████████████████████████████████| (done) 100%\n",
            "generic prediction progress: |███████████████████████████████████████████████████| (done) 100%\n",
            "generic prediction progress: |███████████████████████████████████████████████████| (done) 100%\n",
            "generic prediction progress: |███████████████████████████████████████████████████| (done) 100%\n",
            "generic prediction progress: |███████████████████████████████████████████████████| (done) 100%\n",
            "generic prediction progress: |███████████████████████████████████████████████████| (done) 100%\n",
            "generic prediction progress: |███████████████████████████████████████████████████| (done) 100%\n",
            "generic prediction progress: |███████████████████████████████████████████████████| (done) 100%\n",
            "generic prediction progress: |███████████████████████████████████████████████████| (done) 100%\n",
            "generic prediction progress: |███████████████████████████████████████████████████| (done) 100%\n",
            "generic prediction progress: |███████████████████████████████████████████████████| (done) 100%\n",
            "generic prediction progress: |███████████████████████████████████████████████████| (done) 100%\n",
            "generic prediction progress: |███████████████████████████████████████████████████| (done) 100%\n",
            "generic prediction progress: |███████████████████████████████████████████████████| (done) 100%\n",
            "generic prediction progress: |███████████████████████████████████████████████████| (done) 100%\n",
            "generic prediction progress: |███████████████████████████████████████████████████| (done) 100%\n",
            "generic prediction progress: |███████████████████████████████████████████████████| (done) 100%\n",
            "generic prediction progress: |███████████████████████████████████████████████████| (done) 100%\n",
            "generic prediction progress: |███████████████████████████████████████████████████| (done) 100%\n",
            "generic prediction progress: |███████████████████████████████████████████████████| (done) 100%\n",
            "generic prediction progress: |███████████████████████████████████████████████████| (done) 100%\n",
            "generic prediction progress: |███████████████████████████████████████████████████| (done) 100%\n",
            "generic prediction progress: |███████████████████████████████████████████████████| (done) 100%\n",
            "generic prediction progress: |███████████████████████████████████████████████████| (done) 100%\n",
            "generic prediction progress: |███████████████████████████████████████████████████| (done) 100%\n",
            "generic prediction progress: |███████████████████████████████████████████████████| (done) 100%\n",
            "generic prediction progress: |███████████████████████████████████████████████████| (done) 100%\n",
            "generic prediction progress: |███████████████████████████████████████████████████| (done) 100%\n",
            "generic prediction progress: |███████████████████████████████████████████████████| (done) 100%\n",
            "generic prediction progress: |███████████████████████████████████████████████████| (done) 100%\n",
            "generic prediction progress: |███████████████████████████████████████████████████| (done) 100%\n",
            "generic prediction progress: |███████████████████████████████████████████████████| (done) 100%\n",
            "generic prediction progress: |███████████████████████████████████████████████████| (done) 100%\n",
            "generic prediction progress: |███████████████████████████████████████████████████| (done) 100%\n",
            "generic prediction progress: |███████████████████████████████████████████████████| (done) 100%\n",
            "generic prediction progress: |███████████████████████████████████████████████████| (done) 100%\n",
            "generic prediction progress: |███████████████████████████████████████████████████| (done) 100%\n",
            "generic prediction progress: |███████████████████████████████████████████████████| (done) 100%\n",
            "generic prediction progress: |███████████████████████████████████████████████████| (done) 100%\n",
            "generic prediction progress: |███████████████████████████████████████████████████| (done) 100%\n",
            "generic prediction progress: |███████████████████████████████████████████████████| (done) 100%\n",
            "generic prediction progress: |███████████████████████████████████████████████████| (done) 100%\n",
            "generic prediction progress: |███████████████████████████████████████████████████| (done) 100%\n",
            "generic prediction progress: |███████████████████████████████████████████████████| (done) 100%\n",
            "generic prediction progress: |███████████████████████████████████████████████████| (done) 100%\n",
            "generic prediction progress: |███████████████████████████████████████████████████| (done) 100%\n",
            "generic prediction progress: |███████████████████████████████████████████████████| (done) 100%\n",
            "generic prediction progress: |███████████████████████████████████████████████████| (done) 100%\n",
            "generic prediction progress: |███████████████████████████████████████████████████| (done) 100%\n",
            "generic prediction progress: |███████████████████████████████████████████████████| (done) 100%\n",
            "generic prediction progress: |███████████████████████████████████████████████████| (done) 100%\n",
            "generic prediction progress: |███████████████████████████████████████████████████| (done) 100%\n",
            "generic prediction progress: |███████████████████████████████████████████████████| (done) 100%\n",
            "generic prediction progress: |███████████████████████████████████████████████████| (done) 100%\n",
            "generic prediction progress: |███████████████████████████████████████████████████| (done) 100%\n",
            "generic prediction progress: |███████████████████████████████████████████████████| (done) 100%\n",
            "generic prediction progress: |███████████████████████████████████████████████████| (done) 100%\n",
            "generic prediction progress: |███████████████████████████████████████████████████| (done) 100%\n",
            "generic prediction progress: |███████████████████████████████████████████████████| (done) 100%\n",
            "generic prediction progress: |███████████████████████████████████████████████████| (done) 100%\n",
            "generic prediction progress: |███████████████████████████████████████████████████| (done) 100%\n",
            "generic prediction progress: |███████████████████████████████████████████████████| (done) 100%\n",
            "generic prediction progress: |███████████████████████████████████████████████████| (done) 100%\n",
            "generic prediction progress: |███████████████████████████████████████████████████| (done) 100%\n",
            "generic prediction progress: |███████████████████████████████████████████████████| (done) 100%\n",
            "generic prediction progress: |███████████████████████████████████████████████████| (done) 100%\n",
            "generic prediction progress: |███████████████████████████████████████████████████| (done) 100%\n",
            "generic prediction progress: |███████████████████████████████████████████████████| (done) 100%\n",
            "generic prediction progress: |███████████████████████████████████████████████████| (done) 100%\n",
            "generic prediction progress: |███████████████████████████████████████████████████| (done) 100%\n",
            "generic prediction progress: |███████████████████████████████████████████████████| (done) 100%\n",
            "generic prediction progress: |███████████████████████████████████████████████████| (done) 100%\n",
            "generic prediction progress: |███████████████████████████████████████████████████| (done) 100%\n",
            "generic prediction progress: |███████████████████████████████████████████████████| (done) 100%\n",
            "generic prediction progress: |███████████████████████████████████████████████████| (done) 100%\n",
            "generic prediction progress: |███████████████████████████████████████████████████| (done) 100%\n",
            "generic prediction progress: |███████████████████████████████████████████████████| (done) 100%\n",
            "generic prediction progress: |███████████████████████████████████████████████████| (done) 100%\n",
            "generic prediction progress: |███████████████████████████████████████████████████| (done) 100%\n",
            "generic prediction progress: |███████████████████████████████████████████████████| (done) 100%\n",
            "generic prediction progress: |███████████████████████████████████████████████████| (done) 100%\n",
            "generic prediction progress: |███████████████████████████████████████████████████| (done) 100%\n",
            "generic prediction progress: |███████████████████████████████████████████████████| (done) 100%\n",
            "generic prediction progress: |███████████████████████████████████████████████████| (done) 100%\n",
            "generic prediction progress: |███████████████████████████████████████████████████| (done) 100%\n",
            "generic prediction progress: |███████████████████████████████████████████████████| (done) 100%\n",
            "generic prediction progress: |███████████████████████████████████████████████████| (done) 100%\n",
            "generic prediction progress: |███████████████████████████████████████████████████| (done) 100%\n",
            "generic prediction progress: |███████████████████████████████████████████████████| (done) 100%\n",
            "generic prediction progress: |███████████████████████████████████████████████████| (done) 100%\n",
            "generic prediction progress: |███████████████████████████████████████████████████| (done) 100%\n",
            "generic prediction progress: |███████████████████████████████████████████████████| (done) 100%\n",
            "generic prediction progress: |███████████████████████████████████████████████████| (done) 100%\n",
            "generic prediction progress: |███████████████████████████████████████████████████| (done) 100%\n",
            "generic prediction progress: |███████████████████████████████████████████████████| (done) 100%\n",
            "generic prediction progress: |███████████████████████████████████████████████████| (done) 100%\n",
            "generic prediction progress: |███████████████████████████████████████████████████| (done) 100%\n",
            "generic prediction progress: |███████████████████████████████████████████████████| (done) 100%\n",
            "generic prediction progress: |███████████████████████████████████████████████████| (done) 100%\n",
            "generic prediction progress: |███████████████████████████████████████████████████| (done) 100%\n"
          ]
        }
      ]
    }
  ],
  "metadata": {
    "colab": {
      "machine_shape": "hm",
      "provenance": []
    },
    "kernelspec": {
      "display_name": "Python 3",
      "name": "python3"
    },
    "language_info": {
      "name": "python"
    }
  },
  "nbformat": 4,
  "nbformat_minor": 0
}